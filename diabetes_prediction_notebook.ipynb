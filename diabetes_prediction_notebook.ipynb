{
 "cells": [
  {
   "cell_type": "markdown",
   "metadata": {
    "application/vnd.databricks.v1+cell": {
     "cellMetadata": {
      "byteLimit": 2048000,
      "rowLimit": 10000
     },
     "inputWidgets": {},
     "nuid": "96816ed7-b08a-4ca3-abb9-f99880c3535d",
     "showTitle": false,
     "title": ""
    },
    "id": "mSudRe0SX-H6"
   },
   "source": [
    "## Overview\n",
    "\n",
    "The \"MLflow PySpark Pipeline for Diabetes Prediction\" - Python Notebook is a comprehensive example of how to use the MLflow library to build a machine learning pipeline to predict diabetes in patients. The notebook demonstrates how to use various PySpark libraries, such as Pipeline, PipelineModel, Logistic Regression, BinaryClassificationEvaluator, and MulticlassClassificationEvaluator to build and evaluate the machine learning model.\n",
    "\n",
    "The first step is to set the MLflow experiment for diabetes prediction. The next step is to load the diabetes dataset, which is split into training and test sets using the randomSplit function. The hyperparameters for the logistic regression model are set, and the model is trained using the pipeline function.\n",
    "\n",
    "The categorical features in the dataset are converted to numeric using StringIndexer, and the features vector is created using VectorAssembler. The logistic regression model is defined, and the pipeline is created using these components. The hyperparameters are logged, and the model is trained.\n",
    "\n",
    "After training the model, the predictions are made on the test data, and the model is evaluated using BinaryClassificationEvaluator and MulticlassClassificationEvaluator. The evaluation metrics, such as area under the ROC curve and accuracy, are logged using the mlflow.log_metric function.\n",
    "\n",
    "The model is then logged using the mlflow.spark.log_model function, which saves the model to the MLflow registry. Finally, the production version of the model is transitioned using the MlflowClient function. Then, The model is then loaded and used to make predictions on new data.\n",
    "\n",
    "This notebook is written in **Python** so the default cell type is Python."
   ]
  },
  {
   "cell_type": "code",
   "execution_count": null,
   "metadata": {
    "application/vnd.databricks.v1+cell": {
     "cellMetadata": {
      "byteLimit": 2048000,
      "rowLimit": 10000
     },
     "inputWidgets": {},
     "nuid": "9431f67c-e7ff-4496-becc-3381f024e99b",
     "showTitle": false,
     "title": ""
    },
    "id": "AMWDU8rLX-H_",
    "outputId": "739dfb53-d575-4fa5-fc78-dca5bde08211"
   },
   "outputs": [
    {
     "name": "stdout",
     "output_type": "stream",
     "text": [
      "Area under ROC curve: 0.8106047708876916\n",
      "Accuracy: 96.11%\n"
     ]
    },
    {
     "name": "stderr",
     "output_type": "stream",
     "text": [
      "2023/04/07 15:56:51 INFO mlflow.spark: Inferring pip requirements by reloading the logged model from the databricks artifact repository, which can be time-consuming. To speed up, explicitly specify the conda_env or pip_requirements when calling log_model().\n",
      "/databricks/python/lib/python3.9/site-packages/_distutils_hack/__init__.py:30: UserWarning: Setuptools is replacing distutils.\n",
      "  warnings.warn(\"Setuptools is replacing distutils.\")\n"
     ]
    }
   ],
   "source": [
    "import mlflow\n",
    "from pyspark.ml import Pipeline, PipelineModel\n",
    "from pyspark.ml.classification import LogisticRegression\n",
    "from pyspark.ml.evaluation import BinaryClassificationEvaluator, MulticlassClassificationEvaluator\n",
    "from pyspark.ml.feature import StringIndexer, VectorAssembler\n",
    "from pyspark.sql import SparkSession\n",
    "from pyspark.sql.functions import col\n",
    "from pyspark.sql.types import DoubleType\n",
    "\n",
    "# Set the MLflow experiment\n",
    "mlflow.set_experiment(\"/diabetes-prediction\")\n",
    "\n",
    "# Load the diabetes data\n",
    "data = spark.read.csv(\"/FileStore/tables/diabetes_prediction_dataset.csv\", inferSchema=True,header=True)\n",
    "\n",
    "# Convert the diabetes label to double\n",
    "data = data.withColumn(\"diabetes\", col(\"diabetes\").cast(DoubleType()))\n",
    "\n",
    "# Split the data into training and test sets\n",
    "(trainingData, testData) = data.randomSplit([0.7, 0.3], seed=1234)\n",
    "\n",
    "# Set the hyperparameters for the logistic regression model\n",
    "lr_params = {\n",
    "    \"regParam\": 0.01,\n",
    "    \"elasticNetParam\": 0.0,\n",
    "    \"maxIter\": 100\n",
    "}\n",
    "\n",
    "\n",
    "# Train the model and make predictions on the test data\n",
    "with mlflow.start_run():\n",
    "\n",
    "    # Convert categorical features to numeric using StringIndexer\n",
    "    GenderIndexer = StringIndexer(inputCol=\"gender\", outputCol=\"genderIndex\")                       \n",
    "    SmokeHistIndexer = StringIndexer(inputCol=\"smoking_history\", outputCol=\"smoking_statusIndex\")  \n",
    "\n",
    "    # Create the features vector using VectorAssembler\n",
    "    F_assembler = VectorAssembler(inputCols=[\"genderIndex\", \"age\", \"hypertension\", \"heart_disease\", \"smoking_statusIndex\", \"bmi\",\"HbA1c_level\",\"blood_glucose_level\"], outputCol=\"features\")\n",
    "    \n",
    "    # Define the logistic regression model\n",
    "    lr = LogisticRegression(featuresCol=\"features\", labelCol=\"diabetes\")\n",
    "  \n",
    "    # Define the pipeline\n",
    "    pipeline = Pipeline(stages=[GenderIndexer, SmokeHistIndexer,F_assembler, lr])\n",
    "    \n",
    "    # Log the hyperparameters\n",
    "    mlflow.log_params(lr_params)\n",
    "    \n",
    "    # Train the model\n",
    "    models=pipeline.fit(trainingData)\n",
    "    \n",
    "    # Make predictions on the test data\n",
    "    predictions = models.transform(testData)\n",
    "    \n",
    "    # Evaluate the model\n",
    "    auc_evaluator = BinaryClassificationEvaluator(labelCol=\"diabetes\", rawPredictionCol=\"prediction\", metricName=\"areaUnderROC\")\n",
    "    areaUnderROC = auc_evaluator.evaluate(predictions)\n",
    "    print(\"Area under ROC curve: {}\".format(areaUnderROC))\n",
    "    acc_evaluator = MulticlassClassificationEvaluator(predictionCol=\"prediction\", labelCol=\"diabetes\", metricName=\"accuracy\")\n",
    "    accuracy = acc_evaluator.evaluate(predictions)\n",
    "    print(\"Accuracy: {:.2f}%\".format(accuracy*100))\n",
    "    \n",
    "    #Log the metrics\n",
    "    mlflow.log_metric(\"Accuracy\", accuracy*100)\n",
    "    mlflow.log_metric(\"AUC\", areaUnderROC)\n",
    "    \n",
    "    # Log the model\n",
    "    mlflow.spark.log_model(models,\"model\")\n",
    "\n",
    "    #Get the ID of the current run\n",
    "    runid=mlflow.active_run().info.run_id"
   ]
  },
  {
   "cell_type": "code",
   "execution_count": null,
   "metadata": {
    "application/vnd.databricks.v1+cell": {
     "cellMetadata": {
      "byteLimit": 2048000,
      "rowLimit": 10000
     },
     "inputWidgets": {},
     "nuid": "bd5b252a-7048-46a1-a9b5-67a35ab6a9e0",
     "showTitle": false,
     "title": ""
    },
    "id": "Q84gBcT8X-IA",
    "outputId": "08cb274c-b24e-4aed-e754-02cf18fb6413"
   },
   "outputs": [
    {
     "name": "stderr",
     "output_type": "stream",
     "text": [
      "Registered model 'Diabetes_prediction_model' already exists. Creating a new version of this model...\n",
      "2023/04/07 15:57:24 INFO mlflow.tracking._model_registry.client: Waiting up to 300 seconds for model version to finish creation.                     Model name: Diabetes_prediction_model, version 1\n",
      "Created version '1' of model 'Diabetes_prediction_model'.\n"
     ]
    }
   ],
   "source": [
    "runid #runid contains the unique identifier of the active MLflow run\n",
    "model_uri='runs:/'+runid+'/model' #Here we are constructing the model URI using the run ID of the active run and the 'model' endpoint\n",
    "model_name=\"Diabetes_prediction_model\" #Set the name for the registered model\n",
    "model_details=mlflow.register_model(model_uri=model_uri,name=model_name) #Register the trained model with the name and URI specified"
   ]
  },
  {
   "cell_type": "code",
   "execution_count": null,
   "metadata": {
    "application/vnd.databricks.v1+cell": {
     "cellMetadata": {
      "byteLimit": 2048000,
      "rowLimit": 10000
     },
     "inputWidgets": {},
     "nuid": "0a640848-e3b0-4113-9c09-5b6268be18ab",
     "showTitle": false,
     "title": ""
    },
    "id": "D1rjn5K1X-IA",
    "outputId": "ebfa5b91-7afe-44aa-d540-92873ee0a31f"
   },
   "outputs": [
    {
     "name": "stdout",
     "output_type": "stream",
     "text": [
      "Out[4]: <ModelVersion: creation_timestamp=1680883044693, current_stage='Production', description='', last_updated_timestamp=1680883054203, name='Diabetes_prediction_model', run_id='49de1c4521b14bb09ae33697c3a38aaf', run_link='', source='dbfs:/databricks/mlflow-tracking/4430474130799451/49de1c4521b14bb09ae33697c3a38aaf/artifacts/model', status='READY', status_message='', tags={}, user_id='3184715775520627', version='1'>"
     ]
    }
   ],
   "source": [
    "from mlflow.tracking.client import MlflowClient  #Import the Mlflow client library\n",
    "\n",
    "client=MlflowClient() #Create a client instance for accessing the Mlflow tracking server\n",
    "client.transition_model_version_stage(name=model_details.name,version=model_details.version,stage='Production') #Staging the registered model version to the production stage"
   ]
  },
  {
   "cell_type": "code",
   "execution_count": null,
   "metadata": {
    "application/vnd.databricks.v1+cell": {
     "cellMetadata": {
      "byteLimit": 2048000,
      "rowLimit": 10000
     },
     "inputWidgets": {},
     "nuid": "1b81e4b3-6a6c-43de-8f67-27c625927961",
     "showTitle": false,
     "title": ""
    },
    "id": "QO8h0uQCX-IA",
    "outputId": "8ab62b3d-1041-45d8-ba67-f447ddf61c27"
   },
   "outputs": [
    {
     "name": "stderr",
     "output_type": "stream",
     "text": [
      "2023/04/07 15:57:34 INFO mlflow.spark: 'runs:/49de1c4521b14bb09ae33697c3a38aaf/model' resolved as 'dbfs:/databricks/mlflow-tracking/4430474130799451/49de1c4521b14bb09ae33697c3a38aaf/artifacts/model'\n"
     ]
    },
    {
     "name": "stdout",
     "output_type": "stream",
     "text": [
      "+------+----+------------+-------------+---------------+---+-----------+-------------------+-----------+-------------------+--------------------+--------------------+--------------------+----------+\n",
      "|gender| age|hypertension|heart_disease|smoking_history|bmi|HbA1c_level|blood_glucose_level|genderIndex|smoking_statusIndex|            features|       rawPrediction|         probability|prediction|\n",
      "+------+----+------------+-------------+---------------+---+-----------+-------------------+-----------+-------------------+--------------------+--------------------+--------------------+----------+\n",
      "|Female|39.0|           1|            0|        No Info| 79|        8.8|                145|        0.0|                0.0|[0.0,39.0,1.0,0.0...|[-7.4964843174006...|[5.54724371398871...|       1.0|\n",
      "+------+----+------------+-------------+---------------+---+-----------+-------------------+-----------+-------------------+--------------------+--------------------+--------------------+----------+\n",
      "\n"
     ]
    }
   ],
   "source": [
    "import mlflow\n",
    "\n",
    "#Load the saved MLflow model\n",
    "loaded_model = mlflow.spark.load_model(model_uri)\n",
    "\n",
    "#Create a new test dataset as a Spark dataframe\n",
    "test = spark.createDataFrame([\n",
    "    ('Female',39.0,1,0,\"No Info\",79,8.8,145)], [\"gender\", \"age\", \"hypertension\",\"heart_disease\",\"smoking_history\",\"bmi\",\"HbA1c_level\",\"blood_glucose_level\"])\n",
    "\n",
    "#Use the loaded model to make predictions on the new dataset\n",
    "new_predictions=loaded_model.transform(test)\n",
    "#Display the predicted output\n",
    "new_predictions.show()"
   ]
  }
 ],
 "metadata": {
  "application/vnd.databricks.v1+notebook": {
   "dashboards": [],
   "language": "python",
   "notebookMetadata": {
    "pythonIndentUnit": 4
   },
   "notebookName": "diabetes_prediction_notebook",
   "notebookOrigID": 4430474130799444,
   "widgets": {}
  },
  "colab": {
   "provenance": []
  },
  "language_info": {
   "name": "python"
  }
 },
 "nbformat": 4,
 "nbformat_minor": 0
}
